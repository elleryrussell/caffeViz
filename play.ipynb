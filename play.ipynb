{
 "worksheets": [
  {
   "cells": [
    {
     "cell_type": "code",
     "execution_count": null,
     "metadata": {},
     "outputs": [],
     "input": [
      "import caffe\n",
      "from caffe.proto import caffe_pb2\n",
      "from google.protobuf import text_format\n",
      "\n",
      "def _readProtoNetFile(filepath):\n",
      "    solver_config = caffe.proto.caffe_pb2.NetParameter()\n",
      "\n",
      "    return _readProtoFile(filepath, solver_config)\n",
      "\n",
      "\n",
      "def _readProtoFile(filepath, parser_object):\n",
      "\n",
      "    file = open(filepath, \"r\")\n",
      "\n",
      "    if not file:\n",
      "        raise NameError(\"ERROR (\" + filepath + \")!\")\n",
      "\n",
      "    text_format.Merge(str(file.read()), parser_object)\n",
      "    file.close()\n",
      "    return parser_object"
     ],
     "language": "python",
     "prompt_number": 108
    },
    {
     "cell_type": "code",
     "execution_count": null,
     "metadata": {},
     "outputs": [
      {
       "output_type": "stream",
       "stream": "stdout",
       "text": [
        "10\n"
       ]
      }
     ],
     "input": [
      "a = _readProtoNetFile('/home/ellery/caffe/models/bvlc_reference_caffenet/deploy.prototxt')\n",
      "layer1 = a.layer[0]\n",
      "descr = layer1.DESCRIPTOR.fields_by_name['convolution_param']\n",
      "print descr.cpp_type"
     ],
     "language": "python",
     "prompt_number": 262
    },
    {
     "cell_type": "code",
     "execution_count": null,
     "metadata": {},
     "outputs": [
      {
       "output_type": "stream",
       "stream": "stdout",
       "text": [
        "num_output: 96\nkernel_size: 11\nstride: 4\n\n"
       ]
      }
     ],
     "input": [
      "fieldDescriptorPairs = layer1.ListFields()\n",
      "pName = _param_names[str(layer1.type)]+'_param'\n",
      "fields = {fd[0].name:fd[1] for fd in fieldDescriptorPairs}\n",
      "# for field in fieldDescriptorPairs:\n",
      "#     print field[0].name, field[1]\n",
      "print fields[pName]"
     ],
     "language": "python",
     "prompt_number": 197
    },
    {
     "cell_type": "code",
     "execution_count": null,
     "metadata": {},
     "outputs": [],
     "input": [
      "fields = [field for field in a.layer[0].DESCRIPTOR.fields if not '_param' in field.name]\n",
      "for field in fields:\n",
      "    print getattr(a.layer[0], str(field.name))"
     ],
     "language": "python"
    },
    {
     "cell_type": "code",
     "execution_count": null,
     "metadata": {},
     "outputs": [
      {
       "output_type": "stream",
       "stream": "stdout",
       "text": [
        "conv1\nConvolution\n[u'data']\n[u'conv1']\n0\n[]\n[]\n[]\n[]\n[]\n[]\n"
       ]
      }
     ],
     "input": [
      "fields = [field for field in a.layer[0].DESCRIPTOR.fields if not '_param' in field.name]\n",
      "for field in fields:\n",
      "    print getattr(a.layer[0], str(field.name))"
     ],
     "language": "python",
     "prompt_number": 164
    },
    {
     "cell_type": "code",
     "execution_count": null,
     "metadata": {},
     "outputs": [],
     "input": [
      "from caffe import layers as L, params as P, to_proto\n",
      "from caffe.net_spec import _param_names"
     ],
     "language": "python",
     "prompt_number": 61
    },
    {
     "cell_type": "code",
     "execution_count": null,
     "metadata": {},
     "outputs": [
      {
       "output_type": "stream",
       "stream": "stdout",
       "text": [
        "<caffe.net_spec.Top object at 0x7fc8dccc0190>\n"
       ]
      }
     ],
     "input": [
      "aLayer = L.__getattr__(a.layer[0].type)(a.layer[0])\n",
      "print aLayer"
     ],
     "language": "python",
     "prompt_number": 124
    },
    {
     "cell_type": "code",
     "execution_count": null,
     "metadata": {},
     "outputs": [],
     "input": [
      "conv_params = getattr(a.layer[0], str(_param_names[str(a.layer[0].type)]+'_param'))"
     ],
     "language": "python",
     "prompt_number": 150
    },
    {
     "cell_type": "code",
     "execution_count": null,
     "metadata": {},
     "outputs": [],
     "input": [
      "convParam = P.__getattr__(a.layer[0].type)"
     ],
     "language": "python",
     "prompt_number": 85
    },
    {
     "cell_type": "code",
     "execution_count": null,
     "metadata": {},
     "outputs": [
      {
       "output_type": "stream",
       "stream": "stdout",
       "text": [
        "convolution\n"
       ]
      }
     ],
     "input": [
      "print _param_names[str(a.layer[0].type)]"
     ],
     "language": "python",
     "prompt_number": 149
    },
    {
     "cell_type": "code",
     "execution_count": null,
     "metadata": {},
     "outputs": [
      {
       "output_type": "stream",
       "stream": "stdout",
       "text": [
        "<google.protobuf.descriptor.EnumDescriptor object at 0x7fc8dcfe9b50>\nDEFAULT\nCAFFE\nCUDNN\n"
       ]
      }
     ],
     "input": [
      "fields = conv_params.DESCRIPTOR.fields\n",
      "for field in fields:\n",
      "    if field.enum_type:\n",
      "        print field.enum_type\n",
      "        for value in field.enum_type.values:\n",
      "            print value.name"
     ],
     "language": "python",
     "prompt_number": 219
    },
    {
     "cell_type": "code",
     "execution_count": null,
     "metadata": {},
     "outputs": [
      {
       "output_type": "stream",
       "stream": "stdout",
       "text": [
        "type\nvalue\nmin\nmax\nmean\nstd\nsparse\nvariance_norm\ntype\nvalue\nmin\nmax\nmean\nstd\nsparse\nvariance_norm\n"
       ]
      }
     ],
     "input": [
      "fields = conv_params.DESCRIPTOR.fields\n",
      "for field in fields:\n",
      "    if field.message_type:\n",
      "        mfields = field.message_type.fields\n",
      "        for mfield in mfields:\n",
      "            print mfield.name\n",
      "        # for mtype in field.message_type:\n",
      "            # print mtype.name\n",
      "        # for value in field.message_type\n",
      "        #     print value.name"
     ],
     "language": "python",
     "prompt_number": 226
    },
    {
     "cell_type": "code",
     "execution_count": null,
     "metadata": {},
     "outputs": [
      {
       "output_type": "stream",
       "stream": "stdout",
       "text": [
        "['num_output', 'bias_term', 'pad', 'pad_h', 'pad_w', 'kernel_size', 'kernel_h', 'kernel_w', 'group', 'stride', 'stride_h', 'stride_w', 'weight_filler', 'bias_filler', 'engine']\n"
       ]
      }
     ],
     "input": [
      "print res"
     ],
     "language": "python",
     "prompt_number": 100
    },
    {
     "cell_type": "code",
     "execution_count": null,
     "metadata": {},
     "outputs": [
      {
       "ename": "SyntaxError",
       "evalue": "invalid syntax (<ipython-input-104-dfd49c49c687>, line 1)",
       "output_type": "pyerr",
       "traceback": [
        "\u001b[1;36m  File \u001b[1;32m\"<ipython-input-104-dfd49c49c687>\"\u001b[1;36m, line \u001b[1;32m1\u001b[0m\n\u001b[1;33m    print conv_params.(res[0])\u001b[0m\n\u001b[1;37m                      ^\u001b[0m\n\u001b[1;31mSyntaxError\u001b[0m\u001b[1;31m:\u001b[0m invalid syntax\n"
       ]
      }
     ],
     "input": [
      "print conv_params.res[0]"
     ],
     "language": "python",
     "prompt_number": 104
    },
    {
     "cell_type": "code",
     "execution_count": null,
     "metadata": {},
     "outputs": [],
     "input": [
      "a.lay"
     ],
     "language": "python"
    }
   ]
  }
 ],
 "cells": [],
 "metadata": {},
 "nbformat": 3,
 "nbformat_minor": 0
}